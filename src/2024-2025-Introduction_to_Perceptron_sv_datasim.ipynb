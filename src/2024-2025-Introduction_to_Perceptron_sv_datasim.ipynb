{
  "cells": [
    {
      "cell_type": "markdown",
      "metadata": {
        "id": "FPXFHtR67XSz"
      },
      "source": [
        "# Introduction to Neural Networks\n",
        "\n",
        "\n",
        "** Ecole Centrale Nantes **\n",
        "\n",
        "** Diana Mateus **\n"
      ]
    },
    {
      "cell_type": "markdown",
      "metadata": {
        "id": "IaP5KNXD7XS3"
      },
      "source": [
        "**MIMOUNI Luca**\n",
        "\n"
      ]
    },
    {
      "cell_type": "markdown",
      "metadata": {
        "id": "7-FyZE3B7XS4"
      },
      "source": [
        "## Neural Network basics\n",
        "For the first part of this Pratical Work, we will focus on understanding the basics concepts behind Neural Networks (NN). In practics, we don't use directly Neural Network but evolved version of if as for exmple Convolutional NN; however the principal stay the same, so that it is important first to understand it as it is before getting to more sophisticate systems.\n",
        "\n",
        "Lets say we have a input X with $x_i$ features, we would like to classify this input among 2 classes (Binary); lets denote $y = \\{0,1\\}$, the possible outputs of our Neural Network. \n",
        "\n",
        "For simplicity, lets consider for now a single neuron; each features is multiply by a weight $w_i$ and then a bias $b$ is added; the resulting output is passed through an activation function $\\sigma$, therefore, the resulting output after the neuron can be write as $y_{pred} = \\sigma(\\sum w_i x_i + b$).\n"
      ]
    },
    {
      "cell_type": "markdown",
      "metadata": {},
      "source": [
        "*For now, lets do a Neural Network from scratch, so without any AI librairy; we want to use Numpy arrays only.*"
      ]
    },
    {
      "cell_type": "code",
      "execution_count": 41,
      "metadata": {
        "id": "Vg8_j5r97XS5"
      },
      "outputs": [],
      "source": [
        "import numpy as np\n",
        "import matplotlib.pyplot as plt\n",
        "import h5py"
      ]
    },
    {
      "cell_type": "markdown",
      "metadata": {
        "id": "UvCSopBH7XS6"
      },
      "source": [
        "### Loading the dataset"
      ]
    },
    {
      "cell_type": "code",
      "execution_count": 42,
      "metadata": {
        "id": "7_B5zGllLX9Q"
      },
      "outputs": [],
      "source": [
        "# UNCOMMENT IF USING COLAB\n",
        "#from google.colab import drive\n",
        "#drive.mount('/content/drive')\n",
        "#IMDIR = '/content/drive/MyDrive/Colab Notebooks/2022-2023 Machine Learning/05-neural networks/'\n",
        "IMDIR = './dataset/'"
      ]
    },
    {
      "cell_type": "markdown",
      "metadata": {},
      "source": [
        "As usual, we need to shuffle the data to be sure there is no order bias, then we split the data into a training set and a testing set."
      ]
    },
    {
      "cell_type": "code",
      "execution_count": 43,
      "metadata": {
        "id": "Lb_1kDq77XS6"
      },
      "outputs": [],
      "source": [
        "def load_dataset(IMDIR):\n",
        "    train_dataset = h5py.File(IMDIR+'dataset/train_catvnoncat.h5', \"r\")\n",
        "    train_x = np.array(train_dataset[\"train_set_x\"][:])\n",
        "    train_y = np.array(train_dataset[\"train_set_y\"][:])\n",
        "    test_dataset = h5py.File(IMDIR+'dataset/test_catvnoncat.h5', \"r\")\n",
        "    test_x = np.array(test_dataset[\"test_set_x\"][:])\n",
        "    test_y = np.array(test_dataset[\"test_set_y\"][:])\n",
        "    classes = np.array(test_dataset[\"list_classes\"][:])\n",
        "\n",
        "    train_y = train_y.reshape((1, train_y.shape[0]))\n",
        "    test_y = test_y.reshape((1, test_y.shape[0]))\n",
        "\n",
        "    return train_x, train_y, test_x, test_y, classes\n",
        "\n",
        "train_x, train_y, test_x, test_y, classes=load_dataset(IMDIR)"
      ]
    },
    {
      "cell_type": "markdown",
      "metadata": {
        "id": "z0hXCCuW7XS7"
      },
      "source": [
        "#### Visualize data\n",
        "\n",
        "Here we have a binary classification problem: we would like to labelize picture with 1 for a cat and 0 for anything else. Lets show a random image of the dataset then compute label and the dimension of it."
      ]
    },
    {
      "cell_type": "code",
      "execution_count": 44,
      "metadata": {
        "id": "ZcGj2XDE7XS7",
        "outputId": "af8c1e1f-bd63-4173-833c-d9500cd00e81"
      },
      "outputs": [
        {
          "data": {
            "image/png": "[encoded data removed]",
            "text/plain": [
              "<Figure size 640x480 with 1 Axes>"
            ]
          },
          "metadata": {},
          "output_type": "display_data"
        },
        {
          "name": "stdout",
          "output_type": "stream",
          "text": [
            "Train X shape: (209, 64, 64, 3)\n",
            "We have 209 images of dimensionality 64x64x3\n"
          ]
        }
      ],
      "source": [
        "# run several times to visualize different data points\n",
        "# the title shows the ground truth class labels (0=no cat , 1 = cat)\n",
        "\n",
        "# Pick a random index\n",
        "index = np.random.randint(low=0,high=train_y.shape[1])\n",
        "\n",
        "# Show the corresponding image and labelize it\n",
        "plt.imshow(train_x[index])\n",
        "plt.title(\"Image \"+str(index)+\" label \"+str(train_y[0,index]))\n",
        "plt.show()\n",
        "\n",
        "# Print data dimension\n",
        "print (\"Train X shape: \" + str(train_x.shape))\n",
        "print (\"We have \"+str(train_x.shape[0]),\n",
        "       \"images of dimensionality \"\n",
        "       + str(train_x.shape[1])+ \"x\"\n",
        "       + str(train_x.shape[2])+ \"x\"\n",
        "       + str(train_x.shape[3]))"
      ]
    },
    {
      "cell_type": "markdown",
      "metadata": {},
      "source": [
        "*Image is a numpy array of 64 by 64, and each element contains the 3 RBG values.*"
      ]
    },
    {
      "cell_type": "markdown",
      "metadata": {
        "id": "sFV3XzZP7XS8"
      },
      "source": [
        "#### Preprocessing\n",
        "In the following lines we vectorize the images (Instead of a 2-D image we will give as input to the models a 1-D vector). The normalization makes the image intensities be between 0 and 1, and converts the images to floats.\n",
        "\n",
        "Pictures are 64 by 64 shaped, moreover, each cases contains 3 values RBG, and we have 209 samples. Thus, $X$ shape is $(209 \\times 64 \\times 64 \\times 3)$. However we would like to have X shaped as $(64\\times64\\times3=12288, 209)$; to vectorize the data set we write the following code:"
      ]
    },
    {
      "cell_type": "code",
      "execution_count": 45,
      "metadata": {
        "id": "4SvsLwGb7XS9"
      },
      "outputs": [
        {
          "name": "stdout",
          "output_type": "stream",
          "text": [
            "Original train X shape: (209, 64, 64, 3)\n",
            "Original test X shape: (50, 64, 64, 3)\n",
            "\n",
            "Train X shape: (12288, 209)\n",
            "Train Y shape: (1, 209)\n",
            "\n",
            "Test X shape: (12288, 50)\n",
            "Test Y shape: (1, 50)\n"
          ]
        }
      ],
      "source": [
        "train_x, train_y, test_x, test_y, classes=load_dataset(IMDIR)\n",
        "print (\"Original train X shape: \" + str(train_x.shape))\n",
        "print (\"Original test X shape: \" + str(test_x.shape))\n",
        "print('')\n",
        "train_x = train_x.reshape(train_x.shape[0], -1).T\n",
        "test_x = test_x.reshape(test_x.shape[0], -1).T\n",
        "print (\"Train X shape: \" + str(train_x.shape))\n",
        "print (\"Train Y shape: \" + str(train_y.shape))\n",
        "print('')\n",
        "print (\"Test X shape: \" + str(test_x.shape))\n",
        "print (\"Test Y shape: \" + str(test_y.shape))"
      ]
    },
    {
      "cell_type": "markdown",
      "metadata": {},
      "source": [
        "Finally we normalized the data to mitigate dominant values."
      ]
    },
    {
      "cell_type": "code",
      "execution_count": 46,
      "metadata": {
        "id": "fuv_0I7O7XS9"
      },
      "outputs": [
        {
          "name": "stdout",
          "output_type": "stream",
          "text": [
            "False\n"
          ]
        }
      ],
      "source": [
        "train_x = train_x/255.\n",
        "test_x = test_x/255.\n",
        "\n",
        "print(np.any(train_x>1))"
      ]
    },
    {
      "cell_type": "markdown",
      "metadata": {
        "id": "HsHkFIdd7XS-"
      },
      "source": [
        "### 1. Classification with a single neuron\n"
      ]
    },
    {
      "cell_type": "markdown",
      "metadata": {
        "id": "i-HI-OoM7XS-"
      },
      "source": [
        "**a)** We want to implement a single-neuron Neural Network, to do this, we would need the following fucntions:\n",
        "- A function **initialize_parameters**, which given the number of desired weights ```dim```  inizializes the neuron parameters. Lets denote $m$ the number of dimension of our data; here we have $12228$ dimensions. Thus, we need to create a weight vector shaped $1 \\times m$ (1 because we have a single neuron).\n",
        "> The function will initialize:\n",
        "> * the model's weights $\\mathbf{w}$ by randomly sampling small values from a normal distribution with ```np.random.randn```. $(1\\times m)$\n",
        "> * the bias $b$ with 0. $(1 \\times m)$\n",
        "- A function **sigmoid** that computes the sigmoid activation function: Activation function are used to remove linearities from hidden layer to hidden layer, and focus the wide spray value between 0 and 1.\n",
        "- A function **neuron** that given an input vector, the weights and bias, computes the output of the single neuron model"
      ]
    },
    {
      "cell_type": "code",
      "execution_count": 47,
      "metadata": {
        "id": "3_qACoB77XS_"
      },
      "outputs": [],
      "source": [
        "def sigmoid(z):\n",
        "    \"\"\"\n",
        "    Activation function.\n",
        "    Args:\n",
        "    - z: Output value from the Neuron.\n",
        "    \n",
        "    Returns:\n",
        "    - : Value of the sigmoid function (between 0 and 1).\n",
        "    \"\"\"\n",
        "    return 1/(1+np.exp(-z))"
      ]
    },
    {
      "cell_type": "code",
      "execution_count": 88,
      "metadata": {
        "id": "7Q4QQDSy7XS_"
      },
      "outputs": [],
      "source": [
        "def initialize_parameters(dim):\n",
        "    \"\"\"\n",
        "    Initializing parameters.\n",
        "    Args:\n",
        "    - dim: Number of features\n",
        "    \n",
        "    Returns:\n",
        "    - w: Initial weight\n",
        "    - b: Initial bias\n",
        "    \"\"\"\n",
        "    w = np.random.randn(dim,1) # Normal distribution\n",
        "    b = 0.\n",
        "    return w, b"
      ]
    },
    {
      "cell_type": "code",
      "execution_count": 89,
      "metadata": {},
      "outputs": [
        {
          "name": "stdout",
          "output_type": "stream",
          "text": [
            "(10, 1)\n"
          ]
        }
      ],
      "source": [
        "w0,b0 = initialize_parameters(dim=10)\n",
        "print(w0.shape)"
      ]
    },
    {
      "cell_type": "code",
      "execution_count": 90,
      "metadata": {
        "id": "LYIgpzVN7XTA"
      },
      "outputs": [],
      "source": [
        "def neuron(w,b,x):\n",
        "    \"\"\"\n",
        "    Single neuron computation.\n",
        "    Args:\n",
        "    - w: Weight vector (numpy array of shape (dim,1))\n",
        "    - b: Bias (scalar)\n",
        "    - x: Input vector (numpy array of shape (dim,1))\n",
        "    \n",
        "    Returns:\n",
        "    - a: Output of the neuron after activation (scalar)\n",
        "    \"\"\"\n",
        "    pred_y = np.dot(w.T,x) + b\n",
        "    return pred_y"
      ]
    },
    {
      "cell_type": "markdown",
      "metadata": {
        "id": "sfaqixLE7XTA"
      },
      "source": [
        "**b)** **Forward Pass:**\n",
        "We compute a first forward pass for the input matrix $X$ containing the loaded dataset, for some initialization of the weights and bias.\n",
        "\n",
        " \\begin{align}\n",
        " Y_{\\rm pred}=\\sigma(w^\\top X+b) = [y_{\\rm pred}^{(1)},y_{\\rm pred}^{(2)},\\dots,y_{\\rm pred}^{(m)}]\n",
        " \\end{align}\n"
      ]
    },
    {
      "cell_type": "code",
      "execution_count": 91,
      "metadata": {},
      "outputs": [
        {
          "name": "stdout",
          "output_type": "stream",
          "text": [
            "Problem dimension: 12288\n",
            "w0 shape: (12288, 1)\n",
            "b0 type: <class 'float'>\n"
          ]
        }
      ],
      "source": [
        "m = train_x.shape[0]\n",
        "print('Problem dimension:', m)\n",
        "w0, b0 = initialize_parameters(dim=m)\n",
        "\n",
        "print('w0 shape:', w0.shape)\n",
        "print('b0 type:',type(b0))"
      ]
    },
    {
      "cell_type": "code",
      "execution_count": 92,
      "metadata": {
        "id": "dFWcskKb7XTA"
      },
      "outputs": [
        {
          "name": "stdout",
          "output_type": "stream",
          "text": [
            "Prediction shape: (1, 209)\n",
            "Prediction: [[1.00000000e+00 1.00000000e+00 9.99999830e-01 9.99991873e-01\n",
            "  3.35428944e-06 9.45116215e-01 9.99966862e-01 6.95396919e-02\n",
            "  1.00000000e+00 1.00000000e+00 1.00000000e+00 9.97403523e-01\n",
            "  1.07741658e-02 1.00000000e+00 1.00000000e+00 1.00000000e+00\n",
            "  1.00000000e+00 1.00000000e+00 1.00000000e+00 1.46348157e-08\n",
            "  9.99962305e-01 9.99999929e-01 1.00000000e+00 1.00000000e+00\n",
            "  8.93688614e-04 1.00000000e+00 1.00000000e+00 9.99999665e-01\n",
            "  1.00000000e+00 1.00000000e+00 9.97378051e-01 9.99999980e-01\n",
            "  1.00000000e+00 9.23463239e-01 1.00000000e+00 4.22712145e-04\n",
            "  3.09506062e-12 1.00000000e+00 9.66952553e-01 5.24514738e-05\n",
            "  1.00000000e+00 9.99999997e-01 1.00000000e+00 1.00000000e+00\n",
            "  1.00000000e+00 7.29799306e-01 4.16892478e-02 9.99999681e-01\n",
            "  1.00000000e+00 9.99999999e-01 1.00000000e+00 4.40719523e-12\n",
            "  6.76552253e-01 9.99999824e-01 1.60523038e-11 1.00000000e+00\n",
            "  9.99999999e-01 3.29556512e-01 1.00000000e+00 9.99999692e-01\n",
            "  9.99999400e-01 1.00000000e+00 1.00000000e+00 6.87535955e-01\n",
            "  1.00000000e+00 1.00000000e+00 9.14796242e-05 1.00000000e+00\n",
            "  1.00000000e+00 1.00000000e+00 8.28039166e-04 9.95061698e-01\n",
            "  1.00000000e+00 7.61099211e-19 1.00000000e+00 1.00000000e+00\n",
            "  5.42982901e-01 9.99426895e-01 1.00000000e+00 1.00000000e+00\n",
            "  1.00000000e+00 1.00000000e+00 1.00000000e+00 1.00000000e+00\n",
            "  1.00000000e+00 4.29573017e-05 1.00000000e+00 2.93906296e-13\n",
            "  1.00000000e+00 5.94812923e-02 1.00000000e+00 1.43180559e-02\n",
            "  1.00000000e+00 9.99960897e-01 1.00000000e+00 1.00000000e+00\n",
            "  1.00000000e+00 1.00000000e+00 1.00000000e+00 1.00000000e+00\n",
            "  1.00000000e+00 3.60319722e-02 2.25626015e-13 9.99982468e-01\n",
            "  9.99969044e-01 1.00000000e+00 1.00000000e+00 1.00000000e+00\n",
            "  9.99999983e-01 1.00000000e+00 1.00000000e+00 1.00000000e+00\n",
            "  9.99999871e-01 1.00000000e+00 9.97767801e-01 1.00000000e+00\n",
            "  1.00000000e+00 9.99997981e-01 9.99999978e-01 2.65833769e-11\n",
            "  1.00000000e+00 9.99998372e-01 9.99997025e-01 1.00000000e+00\n",
            "  1.00000000e+00 2.81280279e-07 1.00000000e+00 9.92994620e-01\n",
            "  4.33954004e-01 9.99997481e-01 9.99999999e-01 1.00000000e+00\n",
            "  8.06443878e-03 9.99377304e-01 1.00000000e+00 1.00000000e+00\n",
            "  7.38201358e-01 1.00000000e+00 4.53809973e-19 9.99961453e-01\n",
            "  5.41815432e-34 9.99555451e-01 1.00000000e+00 1.00000000e+00\n",
            "  1.47194509e-03 9.99999970e-01 8.13615986e-01 9.99989845e-01\n",
            "  1.93018471e-01 1.00000000e+00 1.00000000e+00 9.99914364e-01\n",
            "  9.99999980e-01 1.00000000e+00 1.00000000e+00 2.72959678e-02\n",
            "  9.99998601e-01 9.99955579e-01 1.00000000e+00 9.99999975e-01\n",
            "  8.60245543e-01 1.00000000e+00 1.00000000e+00 9.99319254e-01\n",
            "  1.00000000e+00 9.99990253e-01 9.90163894e-01 1.00000000e+00\n",
            "  1.60469446e-02 9.99999999e-01 1.00000000e+00 1.00000000e+00\n",
            "  1.00000000e+00 1.00000000e+00 1.00000000e+00 1.67685790e-28\n",
            "  3.06952733e-11 9.99999608e-01 1.00000000e+00 9.95533443e-01\n",
            "  9.18797503e-01 1.00000000e+00 1.00000000e+00 1.00000000e+00\n",
            "  1.00000000e+00 1.00000000e+00 9.34066782e-01 5.58611374e-13\n",
            "  1.00000000e+00 5.00771877e-03 4.45365113e-05 1.00000000e+00\n",
            "  1.00000000e+00 1.00000000e+00 1.00000000e+00 6.14242129e-17\n",
            "  1.00000000e+00 1.00000000e+00 1.00000000e+00 9.99741067e-01\n",
            "  1.00000000e+00 9.99989405e-01 1.00000000e+00 1.00000000e+00\n",
            "  1.00000000e+00 9.99570579e-01 1.00000000e+00 9.99999749e-01\n",
            "  1.41857241e-04]]\n"
          ]
        }
      ],
      "source": [
        "output = sigmoid(neuron(w=w0, b=b0, x=train_x))\n",
        "print('Prediction shape:', output.shape)\n",
        "print('Prediction:', output)"
      ]
    },
    {
      "cell_type": "markdown",
      "metadata": {
        "id": "UJMQ61FJ7XTB"
      },
      "source": [
        "**c) Cost estimation:**\n",
        "\n",
        "Maximum Likelihood Estimation (MLE) is a statistical methode for estimating the parameters of a probabilistic model. Goal is to find the parameters that maximize the likelihood of the observed data $L(w,b)=\\prod_{i=1}^m P(y^{(i)}|x^{(i)};w,b)$. Equivalently we can use the log of this last expression (LLE): $\\log(L(w,b))=\\sum_{i=1}^m y^{(i)}\\log(P(y^{(i)}|x^{(i)}))+(1-y^{(i)})\\log(1-P(y^{(i)}|x^{(i)}))$\n",
        "\n",
        "Thus, Binary cross-entropy loss can be computed as:\n",
        "$\n",
        " \\begin{align}\n",
        " E = - \\frac{1}{m} \\sum_{i=1}^m\n",
        " y^{(i)} \\log(y_{\\rm pred}^{(i)}) +\n",
        " (1-y^{(i)}) \\log(1-y_{\\rm pred}^{(i)})\n",
        " \\end{align}\n",
        " $\n",
        "\n",
        "NB: \n",
        "* We put a negative sign, so that now we have to minimize the Cross-entropy; which is equivalent to maximizing MLE\n",
        "* The $1/m$ is for normalization purpose.\n",
        "\n",
        " The following cross-entropy function should give as result the **scalar** cost value computed over the entire dataset"
      ]
    },
    {
      "cell_type": "code",
      "execution_count": 94,
      "metadata": {
        "id": "JOfXYhdX7XTB"
      },
      "outputs": [
        {
          "name": "stdout",
          "output_type": "stream",
          "text": [
            "Binary Cross-entropy loss: 0.22\n"
          ]
        }
      ],
      "source": [
        "def crossentropy(dim, y_true, y_pred):\n",
        "    \"\"\"\n",
        "    Cross-entropy:\n",
        "    Args:\n",
        "    - dim: Number of features - int\n",
        "    - y_true: Ground-truth, data labels - numpy array (1xn) of {0,1} where n is the number of samples\n",
        "    - y_pred: Predicted probabilities - numpy array (1xn) of {0,1}\n",
        "    \n",
        "    Returns:\n",
        "    - cost: Cross-entyropy lost - float\n",
        "    \"\"\"\n",
        "    epsilon = 1e-15 \n",
        "    y_pred = np.clip(y_pred, epsilon, 1-epsilon) # Avoid nan or inf values by clipping value between eps and 1-eps \n",
        "\n",
        "    cost = - (1/dim) * sum(np.dot(y_true, np.log(y_pred.T)) + np.dot((1-y_true), np.log(1-y_pred.T)))\n",
        "    return cost[0]\n",
        "\n",
        "E = crossentropy(dim=m, y_true=train_y, y_pred=output)\n",
        "print('Binary Cross-entropy loss:', np.round(E,2))"
      ]
    },
    {
      "cell_type": "markdown",
      "metadata": {
        "id": "tpUjfeFl7XTB"
      },
      "source": [
        "**d) Back propagation:**\n",
        "\n",
        "After initializing the parameters and doing a forward pass, we need to backpropagate the cost by computing the gradient with respect to the model parameters to later update the weights.\n",
        "\n",
        "### Single neuron, 1 layer.\n",
        "\n",
        "Lets denote $z=w^T+x$ so that the output $y_{pred}=\\sigma(z)$. \n",
        "1 - We initialize $w$ and $b$ as $w_0$ with a normal distribution, and b to be equal to 0.\n",
        "2 - Lets do a first forward pass, we have therefore $y_{pred}=\\frac{1}{1+e^{w_0x+0}}$, and compare it to $y_true$; we can use cross-entropy, or simplier cost as Squared sum of residual : $\\text{SSR} = \\frac{1}{2}(y_{pred}-y_{true})^2$. \n",
        "3 - Now lets do a backpropagation; we would like to find $w^*$ and $b^*$ that minimize the cost function. To do this, we use a gradient descent methode; we need therefore gradient of cost function respect to w and b. A trick is to use the chain rule, which give us : $\\frac{\\partial C}{\\partial{w}} = \\frac{\\partial C}{\\partial{y_{pred}}} . \\frac{\\partial y_{pred}}{\\partial{z}} . \\frac{\\partial z}{\\partial{w}}$, same $\\frac{\\partial C}{\\partial{b}} = \\frac{\\partial C}{\\partial{y_{pred}}} . \\frac{\\partial y_{pred}}{\\partial{z}} . \\frac{\\partial z}{\\partial{b}}$. Finally, we introduce a learning rate $\\alpha$ so that $w_{new} = w - \\alpha \\frac{\\partial C}{\\partial{w}}$; $b_{new} = b - \\alpha \\frac{\\partial C}{\\partial{b}}$.\n"
      ]
    },
    {
      "cell_type": "markdown",
      "metadata": {
        "id": "TYIlVxrX7XTC"
      },
      "source": [
        "**e) Optimization**\n",
        "After initializing the parameters, computing the cost function, and calculating gradients, we can now update the parameters using gradient descent. Use the functions implemented above to fill_in the \"gradient_descent\" function that optimizes the parameters given a training set X, Y, a fixed number of iterations, and a learning_rate. Store and plot the value of the loss function at each iteration"
      ]
    },
    {
      "cell_type": "code",
      "execution_count": 108,
      "metadata": {},
      "outputs": [
        {
          "name": "stdout",
          "output_type": "stream",
          "text": [
            "Epoch 0, Loss: 0.314314307433708\n",
            "Epoch 100, Loss: 0.10724279057660083\n",
            "Epoch 200, Loss: 0.09236536692499323\n",
            "Epoch 300, Loss: 0.08092477574716314\n",
            "Epoch 400, Loss: 0.07041019612716332\n",
            "Epoch 500, Loss: 0.061351026500390704\n",
            "Epoch 600, Loss: 0.05352699097656971\n",
            "Epoch 700, Loss: 0.046736056343665525\n",
            "Epoch 800, Loss: 0.04113061468424495\n",
            "Epoch 900, Loss: 0.03635462621093949\n",
            "Epoch 1000, Loss: 0.03215556374786503\n",
            "Epoch 1100, Loss: 0.028473737513651433\n",
            "Epoch 1200, Loss: 0.025293348596332206\n",
            "Epoch 1300, Loss: 0.02254555979922155\n",
            "Epoch 1400, Loss: 0.020034317617877877\n",
            "Epoch 1500, Loss: 0.017669292406859556\n",
            "Epoch 1600, Loss: 0.01546317694357165\n",
            "Epoch 1700, Loss: 0.013530773266051309\n",
            "Epoch 1800, Loss: 0.011853707082373488\n",
            "Epoch 1900, Loss: 0.01035784518109026\n"
          ]
        }
      ],
      "source": [
        "def backpropagation(X, y, alpha, num_epochs):\n",
        "    \"\"\"\n",
        "    Perform backpropagation to update weights and bias.\n",
        "    Args:\n",
        "    - X: Input data (m, n) where m is the number of features and n is the number of samples\n",
        "    - y: True labels (1, n)\n",
        "    - w: Weights (m, 1)\n",
        "    - b: Bias (scalar)\n",
        "    - alpha: Learning rate (scalar)\n",
        "    - num_epochs: Number of training iterations\n",
        "    \n",
        "    Returns:\n",
        "    - w: Updated weights (m, 1)\n",
        "    - b: Updated bias (scalar)\n",
        "    \"\"\"\n",
        "    m, n = X.shape  # m: number of features, n: number of samples\n",
        "    costs = []\n",
        "    w, b = initialize_parameters(m)\n",
        "\n",
        "\n",
        "    for epoch in range(num_epochs):\n",
        "        # Forward pass\n",
        "        z = np.dot(w.T, X) + b  # z: (1, n)\n",
        "        yh = sigmoid(z)          # predicted y: yh (1, n)\n",
        "        \n",
        "        # Compute loss\n",
        "        loss = crossentropy(dim=m, y_true=y, y_pred=yh)\n",
        "        costs.append(loss)\n",
        "        \n",
        "        # Backward pass\n",
        "        dz = yh - y\n",
        "        dw = np.dot(X, dz.T) / n  # dw: (m, 1)\n",
        "        db = np.sum(dz) / n       # db: Scalar\n",
        "        \n",
        "        # Update parameters\n",
        "        w -= alpha * dw\n",
        "        b -= alpha * db\n",
        "        \n",
        "        # Print the loss every 100 epochs\n",
        "        if epoch % 100 == 0:\n",
        "            print(f\"Epoch {epoch}, Loss: {loss}\")\n",
        "    \n",
        "    return w, b, costs\n",
        "\n",
        "w_opt, b_opt, costs = backpropagation(X=train_x, y=train_y, alpha=0.01, num_epochs=2000)"
      ]
    },
    {
      "cell_type": "markdown",
      "metadata": {
        "id": "YOfvYu8m7XTD"
      },
      "source": [
        "**f) Plot the training loss curve**\n",
        "We display the evolution of the loss against the iterations"
      ]
    },
    {
      "cell_type": "code",
      "execution_count": 111,
      "metadata": {
        "id": "DSlvAuw17XTD"
      },
      "outputs": [
        {
          "data": {
            "image/png": "[encoded data removed]",
            "text/plain": [
              "<Figure size 640x480 with 1 Axes>"
            ]
          },
          "metadata": {},
          "output_type": "display_data"
        }
      ],
      "source": [
        "plt.plot(costs)\n",
        "plt.ylabel('cost')\n",
        "plt.xlabel('iterations')\n",
        "plt.show()"
      ]
    },
    {
      "cell_type": "markdown",
      "metadata": {},
      "source": [
        "We can see that cost function decrease a lot in the beginning then slowly converge to 0."
      ]
    },
    {
      "cell_type": "markdown",
      "metadata": {
        "id": "_U0z7L2e7XTE"
      },
      "source": [
        "**g) Prediction**\n",
        "Lets test our single neuron Neural Network on the data; and see if we can have good prediction with it."
      ]
    },
    {
      "cell_type": "code",
      "execution_count": 115,
      "metadata": {},
      "outputs": [],
      "source": [
        "from sklearn.model_selection import train_test_split"
      ]
    },
    {
      "cell_type": "code",
      "execution_count": 116,
      "metadata": {
        "id": "gc1i9fHi36aS"
      },
      "outputs": [
        {
          "name": "stdout",
          "output_type": "stream",
          "text": [
            "(188, 12288)\n",
            "(21, 12288)\n"
          ]
        }
      ],
      "source": [
        "X_train, X_test, y_train, y_test = train_test_split(train_x.T, train_y.T, test_size=0.1, random_state=42)\n",
        "print(X_train.shape)\n",
        "print(X_test.shape)"
      ]
    },
    {
      "cell_type": "code",
      "execution_count": 117,
      "metadata": {},
      "outputs": [
        {
          "name": "stdout",
          "output_type": "stream",
          "text": [
            "Epoch 0, Loss: 0.15623104487097528\n",
            "Epoch 100, Loss: 0.06930116997283241\n",
            "Epoch 200, Loss: 0.05649412375954915\n",
            "Epoch 300, Loss: 0.047431363521611244\n",
            "Epoch 400, Loss: 0.04107875623007302\n",
            "Epoch 500, Loss: 0.03590150610934434\n",
            "Epoch 600, Loss: 0.031591418887900354\n",
            "Epoch 700, Loss: 0.027834102358390934\n",
            "Epoch 800, Loss: 0.02453274489393952\n",
            "Epoch 900, Loss: 0.02155790363240269\n",
            "Epoch 1000, Loss: 0.01889745847229396\n",
            "Epoch 1100, Loss: 0.016568041524337905\n",
            "Epoch 1200, Loss: 0.014590262853221448\n",
            "Epoch 1300, Loss: 0.012898216545156604\n",
            "Epoch 1400, Loss: 0.01138795249561814\n",
            "Epoch 1500, Loss: 0.010075149511265126\n",
            "Epoch 1600, Loss: 0.008961738513480937\n",
            "Epoch 1700, Loss: 0.007993996559407806\n",
            "Epoch 1800, Loss: 0.007152994540752239\n",
            "Epoch 1900, Loss: 0.0064173789511247055\n"
          ]
        }
      ],
      "source": [
        "w_opt, b_opt, costs = backpropagation(X=X_train.T, y=y_train.T, alpha=0.01, num_epochs=2000)"
      ]
    },
    {
      "cell_type": "code",
      "execution_count": 118,
      "metadata": {},
      "outputs": [
        {
          "data": {
            "image/png": "[encoded data removed]",
            "text/plain": [
              "<Figure size 640x480 with 1 Axes>"
            ]
          },
          "metadata": {},
          "output_type": "display_data"
        }
      ],
      "source": [
        "plt.plot(costs)\n",
        "plt.ylabel('cost')\n",
        "plt.xlabel('iterations')\n",
        "plt.show()"
      ]
    },
    {
      "cell_type": "code",
      "execution_count": 121,
      "metadata": {},
      "outputs": [
        {
          "name": "stdout",
          "output_type": "stream",
          "text": [
            "Train Acc: 84.67722444100525 %\n",
            "Test Acc: 61.58034856896716 %\n"
          ]
        }
      ],
      "source": [
        "def predict(w, b, X):\n",
        "    y_pred = sigmoid(np.dot(w.T,X) + b)\n",
        "    return y_pred\n",
        "\n",
        "# predict\n",
        "train_pred_y = predict(w=w_opt, b=b_opt, X=train_x)\n",
        "test_pred_y = predict(w=w_opt, b=b_opt, X=test_x)\n",
        "print(\"Train Acc: {} %\".format(100 - np.mean(np.abs(train_pred_y - train_y)) * 100))\n",
        "print(\"Test Acc: {} %\".format(100 - np.mean(np.abs(test_pred_y - test_y)) * 100))"
      ]
    },
    {
      "cell_type": "markdown",
      "metadata": {},
      "source": [
        "Test Accuracy is of course lower than training accuracy, as model as been train with training data. However, we can see that single neuron is not efficient enough to predict correclty the data. We will see in the next part, how to implement complexe Neural Network with python Librairy as TensorFlow or Pycharm."
      ]
    },
    {
      "cell_type": "code",
      "execution_count": 124,
      "metadata": {},
      "outputs": [
        {
          "name": "stdout",
          "output_type": "stream",
          "text": [
            "[[1 1 1 1 1 0 1 1 1 1 1 1 1 0 0 1 0 1 1 1 1 0 0 1 1 1 1 0 1 0 1 1 1 1 0 0\n",
            "  0 1 0 0 1 1 1 0 0 0 1 1 1 0]]\n",
            "[[1.   0.83 1.   1.   1.   1.   0.   1.   0.02 1.   0.   1.   1.   1.\n",
            "  0.   0.   0.   0.98 0.   0.   0.   0.   1.   1.   0.99 1.   1.   0.\n",
            "  0.   1.   1.   0.01 1.   1.   0.   0.   0.   0.   0.   0.   0.   0.\n",
            "  0.96 0.   1.   1.   0.   1.   1.   0.  ]]\n"
          ]
        }
      ],
      "source": [
        "print(test_y)\n",
        "print(np.round(test_pred_y,2))"
      ]
    }
  ],
  "metadata": {
    "colab": {
      "provenance": []
    },
    "kernelspec": {
      "display_name": "Python 3",
      "language": "python",
      "name": "python3"
    },
    "language_info": {
      "codemirror_mode": {
        "name": "ipython",
        "version": 3
      },
      "file_extension": ".py",
      "mimetype": "text/x-python",
      "name": "python",
      "nbconvert_exporter": "python",
      "pygments_lexer": "ipython3",
      "version": "3.12.7"
    }
  },
  "nbformat": 4,
  "nbformat_minor": 0
}
